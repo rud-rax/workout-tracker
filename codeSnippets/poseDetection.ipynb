{
 "cells": [
  {
   "cell_type": "code",
   "execution_count": 2,
   "metadata": {},
   "outputs": [],
   "source": [
    "# IMPORTING LIBRARIES\n",
    "\n",
    "import cv2\n",
    "import mediapipe as mp\n",
    "import numpy as np\n"
   ]
  },
  {
   "cell_type": "code",
   "execution_count": 3,
   "metadata": {},
   "outputs": [],
   "source": [
    "# SETTING CLASSES FOR POSE DETECTION AND PLOTTING LANDMARKS\n",
    "\n",
    "mp_drawing = mp.solutions.drawing_utils\n",
    "mp_pose = mp.solutions.pose"
   ]
  },
  {
   "cell_type": "code",
   "execution_count": 4,
   "metadata": {},
   "outputs": [
    {
     "data": {
      "text/plain": [
       "frozenset({(0, 1),\n",
       "           (0, 4),\n",
       "           (1, 2),\n",
       "           (2, 3),\n",
       "           (3, 7),\n",
       "           (4, 5),\n",
       "           (5, 6),\n",
       "           (6, 8),\n",
       "           (9, 10),\n",
       "           (11, 12),\n",
       "           (11, 13),\n",
       "           (11, 23),\n",
       "           (12, 14),\n",
       "           (12, 24),\n",
       "           (13, 15),\n",
       "           (14, 16),\n",
       "           (15, 17),\n",
       "           (15, 19),\n",
       "           (15, 21),\n",
       "           (16, 18),\n",
       "           (16, 20),\n",
       "           (16, 22),\n",
       "           (17, 19),\n",
       "           (18, 20),\n",
       "           (23, 24),\n",
       "           (23, 25),\n",
       "           (24, 26),\n",
       "           (25, 27),\n",
       "           (26, 28),\n",
       "           (27, 29),\n",
       "           (27, 31),\n",
       "           (28, 30),\n",
       "           (28, 32),\n",
       "           (29, 31),\n",
       "           (30, 32)})"
      ]
     },
     "execution_count": 4,
     "metadata": {},
     "output_type": "execute_result"
    }
   ],
   "source": [
    "mp_pose.POSE_CONNECTIONS"
   ]
  },
  {
   "cell_type": "code",
   "execution_count": 5,
   "metadata": {},
   "outputs": [
    {
     "data": {
      "text/plain": [
       "{<PoseLandmark.LEFT_EYE_INNER: 1>: DrawingSpec(color=(0, 138, 255), thickness=2, circle_radius=2),\n",
       " <PoseLandmark.LEFT_EYE: 2>: DrawingSpec(color=(0, 138, 255), thickness=2, circle_radius=2),\n",
       " <PoseLandmark.LEFT_EYE_OUTER: 3>: DrawingSpec(color=(0, 138, 255), thickness=2, circle_radius=2),\n",
       " <PoseLandmark.LEFT_EAR: 7>: DrawingSpec(color=(0, 138, 255), thickness=2, circle_radius=2),\n",
       " <PoseLandmark.MOUTH_LEFT: 9>: DrawingSpec(color=(0, 138, 255), thickness=2, circle_radius=2),\n",
       " <PoseLandmark.LEFT_SHOULDER: 11>: DrawingSpec(color=(0, 138, 255), thickness=2, circle_radius=2),\n",
       " <PoseLandmark.LEFT_ELBOW: 13>: DrawingSpec(color=(0, 138, 255), thickness=2, circle_radius=2),\n",
       " <PoseLandmark.LEFT_WRIST: 15>: DrawingSpec(color=(0, 138, 255), thickness=2, circle_radius=2),\n",
       " <PoseLandmark.LEFT_PINKY: 17>: DrawingSpec(color=(0, 138, 255), thickness=2, circle_radius=2),\n",
       " <PoseLandmark.LEFT_INDEX: 19>: DrawingSpec(color=(0, 138, 255), thickness=2, circle_radius=2),\n",
       " <PoseLandmark.LEFT_THUMB: 21>: DrawingSpec(color=(0, 138, 255), thickness=2, circle_radius=2),\n",
       " <PoseLandmark.LEFT_HIP: 23>: DrawingSpec(color=(0, 138, 255), thickness=2, circle_radius=2),\n",
       " <PoseLandmark.LEFT_KNEE: 25>: DrawingSpec(color=(0, 138, 255), thickness=2, circle_radius=2),\n",
       " <PoseLandmark.LEFT_ANKLE: 27>: DrawingSpec(color=(0, 138, 255), thickness=2, circle_radius=2),\n",
       " <PoseLandmark.LEFT_HEEL: 29>: DrawingSpec(color=(0, 138, 255), thickness=2, circle_radius=2),\n",
       " <PoseLandmark.LEFT_FOOT_INDEX: 31>: DrawingSpec(color=(0, 138, 255), thickness=2, circle_radius=2),\n",
       " <PoseLandmark.RIGHT_FOOT_INDEX: 32>: DrawingSpec(color=(231, 217, 0), thickness=2, circle_radius=2),\n",
       " <PoseLandmark.RIGHT_EYE_INNER: 4>: DrawingSpec(color=(231, 217, 0), thickness=2, circle_radius=2),\n",
       " <PoseLandmark.RIGHT_EYE: 5>: DrawingSpec(color=(231, 217, 0), thickness=2, circle_radius=2),\n",
       " <PoseLandmark.RIGHT_EYE_OUTER: 6>: DrawingSpec(color=(231, 217, 0), thickness=2, circle_radius=2),\n",
       " <PoseLandmark.RIGHT_EAR: 8>: DrawingSpec(color=(231, 217, 0), thickness=2, circle_radius=2),\n",
       " <PoseLandmark.MOUTH_RIGHT: 10>: DrawingSpec(color=(231, 217, 0), thickness=2, circle_radius=2),\n",
       " <PoseLandmark.RIGHT_SHOULDER: 12>: DrawingSpec(color=(231, 217, 0), thickness=2, circle_radius=2),\n",
       " <PoseLandmark.RIGHT_ELBOW: 14>: DrawingSpec(color=(231, 217, 0), thickness=2, circle_radius=2),\n",
       " <PoseLandmark.RIGHT_WRIST: 16>: DrawingSpec(color=(231, 217, 0), thickness=2, circle_radius=2),\n",
       " <PoseLandmark.RIGHT_PINKY: 18>: DrawingSpec(color=(231, 217, 0), thickness=2, circle_radius=2),\n",
       " <PoseLandmark.RIGHT_INDEX: 20>: DrawingSpec(color=(231, 217, 0), thickness=2, circle_radius=2),\n",
       " <PoseLandmark.RIGHT_THUMB: 22>: DrawingSpec(color=(231, 217, 0), thickness=2, circle_radius=2),\n",
       " <PoseLandmark.RIGHT_HIP: 24>: DrawingSpec(color=(231, 217, 0), thickness=2, circle_radius=2),\n",
       " <PoseLandmark.RIGHT_KNEE: 26>: DrawingSpec(color=(231, 217, 0), thickness=2, circle_radius=2),\n",
       " <PoseLandmark.RIGHT_ANKLE: 28>: DrawingSpec(color=(231, 217, 0), thickness=2, circle_radius=2),\n",
       " <PoseLandmark.RIGHT_HEEL: 30>: DrawingSpec(color=(231, 217, 0), thickness=2, circle_radius=2),\n",
       " <PoseLandmark.NOSE: 0>: DrawingSpec(color=(224, 224, 224), thickness=2, circle_radius=2)}"
      ]
     },
     "execution_count": 5,
     "metadata": {},
     "output_type": "execute_result"
    }
   ],
   "source": [
    "mp.solutions.drawing_styles.get_default_pose_landmarks_style()"
   ]
  },
  {
   "cell_type": "code",
   "execution_count": 7,
   "metadata": {},
   "outputs": [
    {
     "name": "stdout",
     "output_type": "stream",
     "text": [
      "0 PoseLandmark.NOSE\n",
      "1 PoseLandmark.LEFT_EYE_INNER\n",
      "2 PoseLandmark.LEFT_EYE\n",
      "3 PoseLandmark.LEFT_EYE_OUTER\n",
      "4 PoseLandmark.RIGHT_EYE_INNER\n",
      "5 PoseLandmark.RIGHT_EYE\n",
      "6 PoseLandmark.RIGHT_EYE_OUTER\n",
      "7 PoseLandmark.LEFT_EAR\n",
      "8 PoseLandmark.RIGHT_EAR\n",
      "9 PoseLandmark.MOUTH_LEFT\n",
      "10 PoseLandmark.MOUTH_RIGHT\n",
      "11 PoseLandmark.LEFT_SHOULDER\n",
      "12 PoseLandmark.RIGHT_SHOULDER\n",
      "13 PoseLandmark.LEFT_ELBOW\n",
      "14 PoseLandmark.RIGHT_ELBOW\n",
      "15 PoseLandmark.LEFT_WRIST\n",
      "16 PoseLandmark.RIGHT_WRIST\n",
      "17 PoseLandmark.LEFT_PINKY\n",
      "18 PoseLandmark.RIGHT_PINKY\n",
      "19 PoseLandmark.LEFT_INDEX\n",
      "20 PoseLandmark.RIGHT_INDEX\n",
      "21 PoseLandmark.LEFT_THUMB\n",
      "22 PoseLandmark.RIGHT_THUMB\n",
      "23 PoseLandmark.LEFT_HIP\n",
      "24 PoseLandmark.RIGHT_HIP\n",
      "25 PoseLandmark.LEFT_KNEE\n",
      "26 PoseLandmark.RIGHT_KNEE\n",
      "27 PoseLandmark.LEFT_ANKLE\n",
      "28 PoseLandmark.RIGHT_ANKLE\n",
      "29 PoseLandmark.LEFT_HEEL\n",
      "30 PoseLandmark.RIGHT_HEEL\n",
      "31 PoseLandmark.LEFT_FOOT_INDEX\n",
      "32 PoseLandmark.RIGHT_FOOT_INDEX\n"
     ]
    }
   ],
   "source": [
    "for k,lnd in enumerate(mp_pose.PoseLandmark):\n",
    "    print(k,lnd)"
   ]
  },
  {
   "cell_type": "code",
   "execution_count": 8,
   "metadata": {},
   "outputs": [
    {
     "data": {
      "text/plain": [
       "16"
      ]
     },
     "execution_count": 8,
     "metadata": {},
     "output_type": "execute_result"
    }
   ],
   "source": [
    "mp_pose.PoseLandmark.RIGHT_WRIST.value"
   ]
  },
  {
   "cell_type": "code",
   "execution_count": 4,
   "metadata": {},
   "outputs": [
    {
     "ename": "",
     "evalue": "",
     "output_type": "error",
     "traceback": [
      "\u001b[1;31mThe Kernel crashed while executing code in the the current cell or a previous cell. Please review the code in the cell(s) to identify a possible cause of the failure. Click <a href='https://aka.ms/vscodeJupyterKernelCrash'>here</a> for more info. View Jupyter <a href='command:jupyter.viewOutput'>log</a> for further details."
     ]
    }
   ],
   "source": [
    "# CAPTURE CAMERA FEED\n",
    "\n",
    "SET_EXIT_KEY = 27\n",
    "FEED_DELAY = 10\n",
    "\n",
    "cap = cv2.VideoCapture(0)\n",
    "\n",
    "while cap.isOpened():\n",
    "    # READ CAMERA FRAMES\n",
    "    ret,frame = cap.read()\n",
    "\n",
    "    # SHOW CAMERA FRAMS\n",
    "    cv2.imshow(\"Camera Feed\" , frame)\n",
    "\n",
    "    # CHECK FOR EXIT\n",
    "    if cv2.waitKey(FEED_DELAY) & 0xFF == SET_EXIT_KEY:\n",
    "        break\n",
    "\n",
    "cap.release()\n",
    "cv2.destroyAllWindows()"
   ]
  },
  {
   "cell_type": "code",
   "execution_count": null,
   "metadata": {},
   "outputs": [],
   "source": [
    "MIN_DET_CONF = 0.5\n",
    "MIN_TRK_CONF = 0.5\n",
    "\n",
    "cap = cv2.VideoCapture(0)\n",
    "\n",
    "with mp_pose.Pose(min_detection_confidence=MIN_DET_CONF,min_tracking_confidence=MIN_TRK_CONF) as pose :\n",
    "    while cap.isOpened():\n",
    "        ret,frame = cap.read()\n",
    "\n",
    "        # IMAGE PREPROCESSING\n",
    "        image.flags.writeable = True\n",
    "        image = cv2.cvtColor(frame, cv2.COLOR_BGR2RGB)\n",
    "\n",
    "        # \n",
    "        cv2.imshow(\"Plot Landmarks\",image)\n"
   ]
  }
 ],
 "metadata": {
  "kernelspec": {
   "display_name": "Python 3",
   "language": "python",
   "name": "python3"
  },
  "language_info": {
   "codemirror_mode": {
    "name": "ipython",
    "version": 3
   },
   "file_extension": ".py",
   "mimetype": "text/x-python",
   "name": "python",
   "nbconvert_exporter": "python",
   "pygments_lexer": "ipython3",
   "version": "3.8.0 (v3.8.0:fa919fdf25, Oct 14 2019, 10:23:27) \n[Clang 6.0 (clang-600.0.57)]"
  },
  "orig_nbformat": 4,
  "vscode": {
   "interpreter": {
    "hash": "752579dbebe7f4dfe7c1aa72eac13e23fc88be2cc1ea7ab14e1f8d69b2d97d12"
   }
  }
 },
 "nbformat": 4,
 "nbformat_minor": 2
}
